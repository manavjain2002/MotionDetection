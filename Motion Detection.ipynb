{
 "cells": [
  {
   "cell_type": "code",
   "execution_count": null,
   "id": "10b88381",
   "metadata": {},
   "outputs": [],
   "source": [
    "# Motion Detection and Tracking using contours\n",
    "import cv2\n",
    "import numpy as np\n",
    "\n",
    "cap = cv2.VideoCapture(0)\n",
    "\n",
    "res,frame1 = cap.read()\n",
    "res,frame2 = cap.read()\n",
    "\n",
    "while cap.isOpened():\n",
    "    \n",
    "    diff = cv2.absdiff(frame1,frame2)\n",
    "    gray = cv2.cvtColor(diff, cv2.COLOR_BGR2GRAY)\n",
    "    blur = cv2.GaussianBlur(gray, (5, 5), 0)\n",
    "    _,thresh = cv2.threshold(blur, 20, 255, cv2.THRESH_BINARY)\n",
    "    dilate = cv2.dilate(thresh, None, iterations = 2)\n",
    "    contours, _ = cv2.findContours(dilate, cv2.RETR_TREE, cv2.CHAIN_APPROX_SIMPLE)\n",
    "    \n",
    "    for contour in contours:\n",
    "        (x, y, width, height) = cv2.boundingRect(contour)\n",
    "        \n",
    "        if cv2.contourArea(contour) < 700 :\n",
    "            continue\n",
    "        else:\n",
    "            cv2.rectangle(frame1, (x,y), (x+width,y+height), (0,255,0), 2)\n",
    "            cv2.putText(frame1, 'Status : Movement', (100,20), cv2.FONT_HERSHEY_COMPLEX, 1, (0,0,255), 3)\n",
    "            \n",
    "    \n",
    "    \n",
    "    cv2.imshow('image',frame1)\n",
    "    frame1 = frame2\n",
    "    \n",
    "    res,frame2 = cap.read()\n",
    "\n",
    "    k = cv2.waitKey(1) & 0xFF\n",
    "    if k==27:\n",
    "        break\n",
    "cv2.destroyAllWindows()"
   ]
  }
 ],
 "metadata": {
  "kernelspec": {
   "display_name": "Python 3 (ipykernel)",
   "language": "python",
   "name": "python3"
  },
  "language_info": {
   "codemirror_mode": {
    "name": "ipython",
    "version": 3
   },
   "file_extension": ".py",
   "mimetype": "text/x-python",
   "name": "python",
   "nbconvert_exporter": "python",
   "pygments_lexer": "ipython3",
   "version": "3.8.12"
  }
 },
 "nbformat": 4,
 "nbformat_minor": 5
}
